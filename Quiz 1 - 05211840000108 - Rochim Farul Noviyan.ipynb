{
 "cells": [
  {
   "cell_type": "markdown",
   "id": "420889d1",
   "metadata": {},
   "source": [
    "# Quiz 1\n",
    "**Nama : Rochim Farul Noviyan**\n",
    "\n",
    "**NRP : 05211840000108**\n",
    "\n",
    "**Kelas : AB C**\n",
    "\n",
    "Carilah dataset yang belum pernah digunakan pada perkuliahan.\n",
    "Buatlah kode program Python dengan menggunakan data tersebut yang dapat :\n",
    "1. Memvisualisasikan data\n",
    "2. Mereduksi dimensi data\n",
    "3. Mengaplikasikan KNN/regresi pada data\n",
    "\n",
    "Catatan: 1 dataset dapat digunakan oleh maksimal 2 orang, namun kode program harus berbeda."
   ]
  },
  {
   "cell_type": "markdown",
   "id": "8596c475",
   "metadata": {},
   "source": [
    "## Persiapan"
   ]
  },
  {
   "cell_type": "markdown",
   "id": "7ec20f27",
   "metadata": {},
   "source": [
    "Pada tahap ini saya mempersiapkan terlebih dahulu dataset dan pustaka atau *library* yang akan digunakan untuk menjawab kuis."
   ]
  },
  {
   "cell_type": "markdown",
   "id": "b2936730",
   "metadata": {},
   "source": [
    "### Pustaka\n",
    "Pustaka yang saya gunakan dalam mengerjakan quiz ini adalah pandas untuk mengelola dataset dan visualisasi, matplotlib untuk visualisasi dan scikit-learn untuk algoritma *machine learning*-nya.\n",
    "\n",
    "Berikut saya melakukan *import* pustaka - pustaka tersebut. "
   ]
  },
  {
   "cell_type": "code",
   "execution_count": 379,
   "id": "c5a92f75",
   "metadata": {
    "tags": []
   },
   "outputs": [],
   "source": [
    "import pandas as pd\n",
    "import matplotlib.pyplot as plt\n",
    "from sklearn.decomposition import PCA\n",
    "from sklearn.metrics import roc_auc_score\n",
    "from sklearn.model_selection import train_test_split\n",
    "from sklearn.neighbors import KNeighborsClassifier\n",
    "from sklearn.pipeline import make_pipeline\n",
    "from sklearn.preprocessing import StandardScaler"
   ]
  },
  {
   "cell_type": "markdown",
   "id": "6f43cd3a",
   "metadata": {},
   "source": [
    "Pandas saya import sepenuhnya. Matplotlib hanya saya gunakan pyplot saja. Untuk scikit-learn terdapat beberapa saja yang saya gunakan. `train_test_split` akan saya gunakan untuk memisahkan data untuk keperluan training dan testing. PCA adalah class untuk PCA. KNeighborsClassifier adalah class inti untuk KNN. `make_pipeline` dan `StandardScaler` akan digunakan untuk membuat pipeline pca. Terakhir ada `roc_auc_score` yang akan saya gunakan untuk menghitung akurasi dengan ROC AUC."
   ]
  },
  {
   "cell_type": "markdown",
   "id": "fe243a20",
   "metadata": {},
   "source": [
    "### Dataset\n",
    "\n",
    "Dataset yang saya gunakan adalah Wine Quality yang saya dapatkan dari [repository milik uci](https://archive.ics.uci.edu/ml/datasets/Wine+Quality), University of California Irvine. Dataset memiliki 2 variasi yaitu dataset untuk wine putih dan untuk wine merah. Kedua dataset tersebut erat kaitannya dengan wine hasil olahan anggur \"Vinho Verde\" varian merah dan putih dari Portugis."
   ]
  },
  {
   "cell_type": "code",
   "execution_count": 380,
   "id": "96798711",
   "metadata": {},
   "outputs": [],
   "source": [
    "white_wine = pd.read_csv('https://archive.ics.uci.edu/ml/machine-learning-databases/wine-quality/winequality-white.csv', sep=';', header=0)\n",
    "red_wine = pd.read_csv('https://archive.ics.uci.edu/ml/machine-learning-databases/wine-quality/winequality-red.csv', sep=';', header=0)"
   ]
  },
  {
   "cell_type": "markdown",
   "id": "f05a2288",
   "metadata": {},
   "source": [
    "Diatas saya memuat kedua dataset dengan bantuan pustaka pandas. Saya menyimpan varian putih ke dalam variabel dengan nama `white_wine` dan varian merah ke dalam variabel `red_wine`. Sebagai argumen tambahan saya menambahkan `sep=';'` yang maksudnya adalah menggunakan pembatas/separator `;` (titik koma) sebagai pembatas data antar kolom dalam satu baris. Berbeda dengan kebanyakan berkas csv yang pembatasnya menggunakan `,` (koma) untuk dataset ini menggunakan pembatas titik koma. Lalu argumen terakhir `header=0` memiliki maksud bahwa baris pertama (dalam ilmu komputer perhitungan dimulai dari 0) merupakan header atau nama kolom."
   ]
  },
  {
   "cell_type": "code",
   "execution_count": 381,
   "id": "edfcf094",
   "metadata": {},
   "outputs": [
    {
     "name": "stdout",
     "output_type": "stream",
     "text": [
      "Jumlah baris data di dataset wine putih sebanyak : 4898\n",
      "Jumlah baris data di dataset wine merah sebanyak : 1599\n"
     ]
    }
   ],
   "source": [
    "print(f'Jumlah baris data di dataset wine putih sebanyak : {len(white_wine.index)}')\n",
    "print(f'Jumlah baris data di dataset wine merah sebanyak : {len(red_wine.index)}')"
   ]
  },
  {
   "cell_type": "markdown",
   "id": "84d659ed",
   "metadata": {},
   "source": [
    "Diatas saya ingin mengetahui jumlah data yang terdapat pada kedua dataset. Dataset wine varian putih memiliki jumlah yang lebih banyak(4898 baris data) jika dibandingkan dengan dataset wine varian merah(1599 baris data). Pada quiz ini saya akan menggunakan dataset wine varian putih karena memiliki lebih banyak baris data jika dibandingkan dengan varian merah. Untuk lebih mengetahui tentang dataset saya menggunakan method `info()` dan `describe()` yang disediakan oleh pandas."
   ]
  },
  {
   "cell_type": "code",
   "execution_count": 382,
   "id": "1941d4a9",
   "metadata": {},
   "outputs": [
    {
     "name": "stdout",
     "output_type": "stream",
     "text": [
      "<class 'pandas.core.frame.DataFrame'>\n",
      "RangeIndex: 4898 entries, 0 to 4897\n",
      "Data columns (total 12 columns):\n",
      " #   Column                Non-Null Count  Dtype  \n",
      "---  ------                --------------  -----  \n",
      " 0   fixed acidity         4898 non-null   float64\n",
      " 1   volatile acidity      4898 non-null   float64\n",
      " 2   citric acid           4898 non-null   float64\n",
      " 3   residual sugar        4898 non-null   float64\n",
      " 4   chlorides             4898 non-null   float64\n",
      " 5   free sulfur dioxide   4898 non-null   float64\n",
      " 6   total sulfur dioxide  4898 non-null   float64\n",
      " 7   density               4898 non-null   float64\n",
      " 8   pH                    4898 non-null   float64\n",
      " 9   sulphates             4898 non-null   float64\n",
      " 10  alcohol               4898 non-null   float64\n",
      " 11  quality               4898 non-null   int64  \n",
      "dtypes: float64(11), int64(1)\n",
      "memory usage: 459.3 KB\n"
     ]
    }
   ],
   "source": [
    "white_wine.info()"
   ]
  },
  {
   "cell_type": "code",
   "execution_count": 383,
   "id": "7297af81",
   "metadata": {},
   "outputs": [
    {
     "data": {
      "text/html": [
       "<div>\n",
       "<style scoped>\n",
       "    .dataframe tbody tr th:only-of-type {\n",
       "        vertical-align: middle;\n",
       "    }\n",
       "\n",
       "    .dataframe tbody tr th {\n",
       "        vertical-align: top;\n",
       "    }\n",
       "\n",
       "    .dataframe thead th {\n",
       "        text-align: right;\n",
       "    }\n",
       "</style>\n",
       "<table border=\"1\" class=\"dataframe\">\n",
       "  <thead>\n",
       "    <tr style=\"text-align: right;\">\n",
       "      <th></th>\n",
       "      <th>fixed acidity</th>\n",
       "      <th>volatile acidity</th>\n",
       "      <th>citric acid</th>\n",
       "      <th>residual sugar</th>\n",
       "      <th>chlorides</th>\n",
       "      <th>free sulfur dioxide</th>\n",
       "      <th>total sulfur dioxide</th>\n",
       "      <th>density</th>\n",
       "      <th>pH</th>\n",
       "      <th>sulphates</th>\n",
       "      <th>alcohol</th>\n",
       "      <th>quality</th>\n",
       "    </tr>\n",
       "  </thead>\n",
       "  <tbody>\n",
       "    <tr>\n",
       "      <th>count</th>\n",
       "      <td>4898.000000</td>\n",
       "      <td>4898.000000</td>\n",
       "      <td>4898.000000</td>\n",
       "      <td>4898.000000</td>\n",
       "      <td>4898.000000</td>\n",
       "      <td>4898.000000</td>\n",
       "      <td>4898.000000</td>\n",
       "      <td>4898.000000</td>\n",
       "      <td>4898.000000</td>\n",
       "      <td>4898.000000</td>\n",
       "      <td>4898.000000</td>\n",
       "      <td>4898.000000</td>\n",
       "    </tr>\n",
       "    <tr>\n",
       "      <th>mean</th>\n",
       "      <td>6.854788</td>\n",
       "      <td>0.278241</td>\n",
       "      <td>0.334192</td>\n",
       "      <td>6.391415</td>\n",
       "      <td>0.045772</td>\n",
       "      <td>35.308085</td>\n",
       "      <td>138.360657</td>\n",
       "      <td>0.994027</td>\n",
       "      <td>3.188267</td>\n",
       "      <td>0.489847</td>\n",
       "      <td>10.514267</td>\n",
       "      <td>5.877909</td>\n",
       "    </tr>\n",
       "    <tr>\n",
       "      <th>std</th>\n",
       "      <td>0.843868</td>\n",
       "      <td>0.100795</td>\n",
       "      <td>0.121020</td>\n",
       "      <td>5.072058</td>\n",
       "      <td>0.021848</td>\n",
       "      <td>17.007137</td>\n",
       "      <td>42.498065</td>\n",
       "      <td>0.002991</td>\n",
       "      <td>0.151001</td>\n",
       "      <td>0.114126</td>\n",
       "      <td>1.230621</td>\n",
       "      <td>0.885639</td>\n",
       "    </tr>\n",
       "    <tr>\n",
       "      <th>min</th>\n",
       "      <td>3.800000</td>\n",
       "      <td>0.080000</td>\n",
       "      <td>0.000000</td>\n",
       "      <td>0.600000</td>\n",
       "      <td>0.009000</td>\n",
       "      <td>2.000000</td>\n",
       "      <td>9.000000</td>\n",
       "      <td>0.987110</td>\n",
       "      <td>2.720000</td>\n",
       "      <td>0.220000</td>\n",
       "      <td>8.000000</td>\n",
       "      <td>3.000000</td>\n",
       "    </tr>\n",
       "    <tr>\n",
       "      <th>25%</th>\n",
       "      <td>6.300000</td>\n",
       "      <td>0.210000</td>\n",
       "      <td>0.270000</td>\n",
       "      <td>1.700000</td>\n",
       "      <td>0.036000</td>\n",
       "      <td>23.000000</td>\n",
       "      <td>108.000000</td>\n",
       "      <td>0.991723</td>\n",
       "      <td>3.090000</td>\n",
       "      <td>0.410000</td>\n",
       "      <td>9.500000</td>\n",
       "      <td>5.000000</td>\n",
       "    </tr>\n",
       "    <tr>\n",
       "      <th>50%</th>\n",
       "      <td>6.800000</td>\n",
       "      <td>0.260000</td>\n",
       "      <td>0.320000</td>\n",
       "      <td>5.200000</td>\n",
       "      <td>0.043000</td>\n",
       "      <td>34.000000</td>\n",
       "      <td>134.000000</td>\n",
       "      <td>0.993740</td>\n",
       "      <td>3.180000</td>\n",
       "      <td>0.470000</td>\n",
       "      <td>10.400000</td>\n",
       "      <td>6.000000</td>\n",
       "    </tr>\n",
       "    <tr>\n",
       "      <th>75%</th>\n",
       "      <td>7.300000</td>\n",
       "      <td>0.320000</td>\n",
       "      <td>0.390000</td>\n",
       "      <td>9.900000</td>\n",
       "      <td>0.050000</td>\n",
       "      <td>46.000000</td>\n",
       "      <td>167.000000</td>\n",
       "      <td>0.996100</td>\n",
       "      <td>3.280000</td>\n",
       "      <td>0.550000</td>\n",
       "      <td>11.400000</td>\n",
       "      <td>6.000000</td>\n",
       "    </tr>\n",
       "    <tr>\n",
       "      <th>max</th>\n",
       "      <td>14.200000</td>\n",
       "      <td>1.100000</td>\n",
       "      <td>1.660000</td>\n",
       "      <td>65.800000</td>\n",
       "      <td>0.346000</td>\n",
       "      <td>289.000000</td>\n",
       "      <td>440.000000</td>\n",
       "      <td>1.038980</td>\n",
       "      <td>3.820000</td>\n",
       "      <td>1.080000</td>\n",
       "      <td>14.200000</td>\n",
       "      <td>9.000000</td>\n",
       "    </tr>\n",
       "  </tbody>\n",
       "</table>\n",
       "</div>"
      ],
      "text/plain": [
       "       fixed acidity  volatile acidity  citric acid  residual sugar  \\\n",
       "count    4898.000000       4898.000000  4898.000000     4898.000000   \n",
       "mean        6.854788          0.278241     0.334192        6.391415   \n",
       "std         0.843868          0.100795     0.121020        5.072058   \n",
       "min         3.800000          0.080000     0.000000        0.600000   \n",
       "25%         6.300000          0.210000     0.270000        1.700000   \n",
       "50%         6.800000          0.260000     0.320000        5.200000   \n",
       "75%         7.300000          0.320000     0.390000        9.900000   \n",
       "max        14.200000          1.100000     1.660000       65.800000   \n",
       "\n",
       "         chlorides  free sulfur dioxide  total sulfur dioxide      density  \\\n",
       "count  4898.000000          4898.000000           4898.000000  4898.000000   \n",
       "mean      0.045772            35.308085            138.360657     0.994027   \n",
       "std       0.021848            17.007137             42.498065     0.002991   \n",
       "min       0.009000             2.000000              9.000000     0.987110   \n",
       "25%       0.036000            23.000000            108.000000     0.991723   \n",
       "50%       0.043000            34.000000            134.000000     0.993740   \n",
       "75%       0.050000            46.000000            167.000000     0.996100   \n",
       "max       0.346000           289.000000            440.000000     1.038980   \n",
       "\n",
       "                pH    sulphates      alcohol      quality  \n",
       "count  4898.000000  4898.000000  4898.000000  4898.000000  \n",
       "mean      3.188267     0.489847    10.514267     5.877909  \n",
       "std       0.151001     0.114126     1.230621     0.885639  \n",
       "min       2.720000     0.220000     8.000000     3.000000  \n",
       "25%       3.090000     0.410000     9.500000     5.000000  \n",
       "50%       3.180000     0.470000    10.400000     6.000000  \n",
       "75%       3.280000     0.550000    11.400000     6.000000  \n",
       "max       3.820000     1.080000    14.200000     9.000000  "
      ]
     },
     "execution_count": 383,
     "metadata": {},
     "output_type": "execute_result"
    }
   ],
   "source": [
    "white_wine.describe()"
   ]
  },
  {
   "cell_type": "markdown",
   "id": "6a9c0fb6",
   "metadata": {},
   "source": [
    "## Memvisualisasikan Data\n",
    "\n",
    "Pada bagian ini saya ingin mengetahui persebaran `quality` dari wine putih dengan menghitung jumlah anggota dari setiap `quality`. Sebagai catatan kualitas disini dituliskan dalam bentuk skor dengan skala antara 0-10.  "
   ]
  },
  {
   "cell_type": "code",
   "execution_count": 384,
   "id": "a55ad305",
   "metadata": {},
   "outputs": [
    {
     "data": {
      "text/plain": [
       "6    2198\n",
       "5    1457\n",
       "7     880\n",
       "8     175\n",
       "4     163\n",
       "3      20\n",
       "9       5\n",
       "Name: quality, dtype: int64"
      ]
     },
     "execution_count": 384,
     "metadata": {},
     "output_type": "execute_result"
    }
   ],
   "source": [
    "white_wine['quality'].value_counts()"
   ]
  },
  {
   "cell_type": "markdown",
   "id": "6377fdd0",
   "metadata": {},
   "source": [
    "Potongan kode diatas adalah untuk menghitung jumlah anggota dari setiap `quality`. Berikut jika hasil perhitungan divisualisasikan dengan diagram batang horizontal:"
   ]
  },
  {
   "cell_type": "code",
   "execution_count": 385,
   "id": "811bb495",
   "metadata": {},
   "outputs": [
    {
     "data": {
      "text/plain": [
       "Text(0.5, 0, 'Jumlah')"
      ]
     },
     "execution_count": 385,
     "metadata": {},
     "output_type": "execute_result"
    },
    {
     "data": {
      "image/png": "[encoded data removed]",
      "text/plain": [
       "<Figure size 432x288 with 1 Axes>"
      ]
     },
     "metadata": {
      "needs_background": "light"
     },
     "output_type": "display_data"
    }
   ],
   "source": [
    "barh_plot = white_wine['quality'].value_counts().plot(kind='barh')\n",
    "barh_plot.invert_yaxis()\n",
    "barh_plot.set_title('Kualitas White Wine') \n",
    "barh_plot.set_ylabel('Kualitas')\n",
    "barh_plot.set_xlabel('Jumlah')"
   ]
  },
  {
   "cell_type": "markdown",
   "id": "25591ebd",
   "metadata": {},
   "source": [
    "Prosesnya adalah pengelompokan dan perhitungan anggota kelompok `quality` dilakukan dengan bantuan method `value_counts()`. Hasil perhitugan lalu di plotkan sebagai diagram batang horizontal oleh method `plot()`. Secara bawaan yang terbanyak akan diletakkan pada bagian bawah. Sehingga disini dilakukan pembalikan agar yang terbanyak berada diatas dengan method `invert_yaxis()`. Selanjutnya untuk melengkapi diagram, saya memberikan judul dan label untuk setiap sumbu.\n",
    "\n",
    "Berdasarkan data tersebut dapat diketahui bahwa wine kebanyakan memiliki kualitas dengan skor 6. Lalu yang paling sedikit adalah wine kualitas terbaik dengan skor 9.\n",
    "\n",
    "Visualisasi diatas juga dapat digambarkan dengan pie chart. Cukup dengan mengganti *kind* dari `barh` menjadi `pie` lalu menghapus label sumbu x. "
   ]
  },
  {
   "cell_type": "code",
   "execution_count": 386,
   "id": "5bb8caf7",
   "metadata": {},
   "outputs": [
    {
     "data": {
      "text/plain": [
       "Text(0, 0.5, 'Kualitas')"
      ]
     },
     "execution_count": 386,
     "metadata": {},
     "output_type": "execute_result"
    },
    {
     "data": {
      "image/png": "[encoded data removed]",
      "text/plain": [
       "<Figure size 432x288 with 1 Axes>"
      ]
     },
     "metadata": {},
     "output_type": "display_data"
    }
   ],
   "source": [
    "plt.figure() # Agar hasil visualisasi tidak overlap jika dijalankan diluar jupyter-notebook\n",
    "pie_plot = white_wine['quality'].value_counts().plot(kind='pie')\n",
    "pie_plot.set_title('Kualitas White Wine') \n",
    "pie_plot.set_ylabel('Kualitas')"
   ]
  },
  {
   "cell_type": "markdown",
   "id": "c457456e",
   "metadata": {},
   "source": [
    "Namun sayang hasilnya kurang rapi. Perbandingannya terlalu besar sehingga untuk kualitas 9 dan 3 yang anggotanya sangat sedikit jadi tidak terlihat dan saling tertumpuk.\n",
    "\n",
    "Selanjutnya saya ingin mencoba mengetahui bagaimana hubungan antara kadar `alcohol` dan `quality` dari wine. Kali ini saya menggunakan boxplot untuk melihat hubungan diantara keduanya."
   ]
  },
  {
   "cell_type": "code",
   "execution_count": 387,
   "id": "baee31b9",
   "metadata": {},
   "outputs": [
    {
     "data": {
      "text/plain": [
       "Text(0.5, 0.98, '')"
      ]
     },
     "execution_count": 387,
     "metadata": {},
     "output_type": "execute_result"
    },
    {
     "data": {
      "text/plain": [
       "<Figure size 432x288 with 0 Axes>"
      ]
     },
     "metadata": {},
     "output_type": "display_data"
    },
    {
     "data": {
      "image/png": "[encoded data removed]",
      "text/plain": [
       "<Figure size 432x288 with 1 Axes>"
      ]
     },
     "metadata": {
      "needs_background": "light"
     },
     "output_type": "display_data"
    }
   ],
   "source": [
    "plt.figure() # Agar hasil visualisasi tidak overlap jika dijalankan diluar jupyter-notebook\n",
    "box_plot = white_wine.boxplot(by='quality', column=['alcohol'], meanline=True, grid=False)\n",
    "box_plot.set_title('Kualitas dan Alkohol')\n",
    "box_plot.set_ylabel('Alkohol')\n",
    "box_plot.set_xlabel('Kualitas')\n",
    "plt.suptitle('')"
   ]
  },
  {
   "cell_type": "markdown",
   "id": "4b2a7cfd",
   "metadata": {},
   "source": [
    "Untuk membuat visualisasi boxplot yang pertama saya lakukan adalah memanggil `plt.figure()` untuk membuat kerangka visualisasi/figure baru (diperlukan terutama jika kode dijalankan di luar jupyter-notebook). Selanjutnya saya memanggil method `boxplot()` dengan beberapa argumen. Argumen pertama dan kedua yaitu `by='quality'` dan `column=['alcohol']` dimaksudkan untuk melakukan pengelompokkan `alcohol` berdasarkan `quality`. Selanjutnya ada argumen `meanline=True` untuk menampilkan garis rerata didalam box. Terakhir `grid=False` digunakan untuk menghilangkan garis kisi yang berada pada latar belakang. \n",
    "\n",
    "Sebagai pelengkap saya juga menambahkan label dan judul. Lalu terdapat juga `plt.suptitle('')` yang digunakan untuk menghapus judul/keterangan yang secara otomatis ditambahkan oleh pandas."
   ]
  },
  {
   "cell_type": "markdown",
   "id": "c26c017d",
   "metadata": {},
   "source": [
    "## Mereduksi dimensi data"
   ]
  },
  {
   "cell_type": "markdown",
   "id": "5c427ac0",
   "metadata": {},
   "source": [
    "Dalam rangka mereduksi dimensi data disini saya menggunakan PCA. Namun sebelum memasuki PCA perlu dilakukan persiapan terlebih dahulu."
   ]
  },
  {
   "cell_type": "code",
   "execution_count": 388,
   "id": "f359db28",
   "metadata": {},
   "outputs": [],
   "source": [
    "random_state = 0"
   ]
  },
  {
   "cell_type": "markdown",
   "id": "53881576",
   "metadata": {},
   "source": [
    "Sebelumnya saya mendefinisikan nilai random state yang akan saya pakai. Random state berguna dalam pengacakan yang akan saya lakukan nantinya. Secara bawaan nilai dari `random_state` jika tidak didefinisikan secara eksplisit adalah `None` dan ini akan berakibat pada pengacakan yang akan selalu berganti saat dijalankan. Sehingga disini saya menggunakan nilai 0 agar nantinya saat dijalankan dilain waktu akan selalu menghasilkan hasil yang sama. "
   ]
  },
  {
   "cell_type": "code",
   "execution_count": 389,
   "id": "65282d05",
   "metadata": {},
   "outputs": [],
   "source": [
    "X = white_wine.iloc[:,0:11]\n",
    "y = white_wine.iloc[:,-1]"
   ]
  },
  {
   "cell_type": "markdown",
   "id": "5d73fdbe",
   "metadata": {},
   "source": [
    "Saya mendefinisikan 2 variabel X dan y. X disini akan menampung *features* sedangkan y akan menampung target klasifikasi. X menggunakan indeks `[:,0:11]` yang artinya saya mengambil seluruh baris untuk kolom dengan rentang 0 hingga 11 (seluruh kolom kecuali kolom terakhir/ kolom quality). y menggunakan indeks `[:,-1]` yang berarti mengambil seluruh baris untuk kolom hanya terakhir saja/ kolom quality. "
   ]
  },
  {
   "cell_type": "code",
   "execution_count": 390,
   "id": "6dfbabf9",
   "metadata": {},
   "outputs": [],
   "source": [
    "X_train, X_test, y_train, y_test = train_test_split(X, y, test_size=0.2, stratify=y, random_state=random_state)"
   ]
  },
  {
   "cell_type": "markdown",
   "id": "66bddb01",
   "metadata": {},
   "source": [
    "Selanjutnya saya membagi dataset untuk keperluan training dan testing. Perbandingan yang saya gunakan adalah 80:20, 80% data untuk data training dan 20% sisanya untuk testing. Saya menggunakan fungsi `train_test_split` untuk keperluan pembagian data tersebut. Argumen yang perlu saya masukkan adalah  X dan y, diikuti dengan besar data test yaitu 20%, lalu `stratify=y` yang maksudnya adalah agar hasil split memiliki proporsi nilai kualitas yang kurang lebih sama, argumen terakhir seperti yang saya jelaskan diatas untuk keperluan pengacakan."
   ]
  },
  {
   "cell_type": "code",
   "execution_count": 391,
   "id": "9f4c7160",
   "metadata": {},
   "outputs": [
    {
     "data": {
      "text/plain": [
       "Pipeline(steps=[('standardscaler', StandardScaler()),\n",
       "                ('pca', PCA(n_components=2, random_state=0))])"
      ]
     },
     "execution_count": 391,
     "metadata": {},
     "output_type": "execute_result"
    }
   ],
   "source": [
    "pca = make_pipeline(StandardScaler(),\n",
    "                    PCA(n_components=2, random_state=random_state))\n",
    "\n",
    "pca.fit(X_train, y_train)"
   ]
  },
  {
   "cell_type": "markdown",
   "id": "82dc2a16",
   "metadata": {},
   "source": [
    "Disini reduksi dengan PCA dimulai. Disini dengan bantuan PCA saya mereduksi dimensi menjadi 2, seperti yang dapat dilihat pada bagian argumen `n_components`. Disini pengacakan dilakukan lagi dan saya menggunakan nilai random_state yang sama dengan sebelumnya yaitu 0. Berdasarkan dokumentasi yang saya baca PCA akan efektif jika dibatasi skalanya sehingga disini diperlukan `StandardScaler()` dalam pembuatan pipelinenya. Kemudian dilakukan proses fitting."
   ]
  },
  {
   "cell_type": "markdown",
   "id": "106fe1cb",
   "metadata": {},
   "source": [
    "## Mengaplikasikan KNN/regresi pada data\n",
    "\n",
    "Pada bagian ini saya akan mengaplikasikan KNN pada data yang telah direduksi dengan dan tanpa PCA"
   ]
  },
  {
   "cell_type": "markdown",
   "id": "c24d8ca4",
   "metadata": {},
   "source": [
    "### KNN dengan PCA\n",
    "Pada bagian ini saya aplikasi KNN pada data yang telah direduksi dimensinya. Saya menggunakan nilai k = 3, yang artinya klasifikasi akan dilakukan dengan melihat 3 tetangga data terdekat. "
   ]
  },
  {
   "cell_type": "code",
   "execution_count": 392,
   "id": "15b3b884",
   "metadata": {},
   "outputs": [],
   "source": [
    "k_value = 3\n",
    "knn = KNeighborsClassifier(n_neighbors=k_value)"
   ]
  },
  {
   "cell_type": "markdown",
   "id": "0e15169e",
   "metadata": {},
   "source": [
    "Diatas saya menggunakan nilai k = 3 sebagai dasar klasifikasi KNN."
   ]
  },
  {
   "cell_type": "code",
   "execution_count": 393,
   "id": "17d6490b",
   "metadata": {},
   "outputs": [],
   "source": [
    "knn.fit(pca.transform(X_train), y_train)\n",
    "accuration = knn.score(pca.transform(X_test), y_test)"
   ]
  },
  {
   "cell_type": "markdown",
   "id": "b9ab92c2",
   "metadata": {},
   "source": [
    "Lalu saya memulai proses fitting model KNN menggunakan data yang telah direduksi dimensinya oleh PCA. Setelah proses selesai saya melakukan tes akurasi model menggunakan data test yang telah disediakan dari hasil split."
   ]
  },
  {
   "cell_type": "code",
   "execution_count": 394,
   "id": "d1a1b4e2",
   "metadata": {},
   "outputs": [
    {
     "name": "stdout",
     "output_type": "stream",
     "text": [
      "Hasil akurasi jika menggunakan PCA : 47.55%\n"
     ]
    }
   ],
   "source": [
    "print(f'Hasil akurasi jika menggunakan PCA : {round(accuration*100, 2)}%')"
   ]
  },
  {
   "cell_type": "markdown",
   "id": "f7984a0b",
   "metadata": {},
   "source": [
    "Dapat diperhatikan diatas, bahwa hasil akurasi yang berhasil di dapatkan ialah sebesar 47.55%.\n",
    "\n",
    "Selanjutnya berikut adalah visualisasi gabungan antara nilai yang didapatkan dari PCA dan KNN."
   ]
  },
  {
   "cell_type": "code",
   "execution_count": 395,
   "id": "d1dd4fc6",
   "metadata": {},
   "outputs": [
    {
     "data": {
      "image/png": "[encoded data removed]",
      "text/plain": [
       "<Figure size 432x288 with 1 Axes>"
      ]
     },
     "metadata": {
      "needs_background": "light"
     },
     "output_type": "display_data"
    }
   ],
   "source": [
    "plt.figure()\n",
    "\n",
    "X_pca = pca.transform(X)\n",
    "\n",
    "plt.scatter(X_pca[:, 0], X_pca[:, 1], c=y)\n",
    "\n",
    "plt.title(f'Besar Akurasi PCA,KNN = {round(accuration, 2)} (nilai k={k_value})')\n",
    "plt.show()"
   ]
  },
  {
   "cell_type": "markdown",
   "id": "64172085",
   "metadata": {},
   "source": [
    "Visualisasi dilakukan dengan bantuan pustaka matplotlib. Pertama yaitu membuat kerangka visualisasi/figure dengan `plt.figure()`. Kemudian melakukan transformasi X dengan pca yang telah di fit pada langkah reduksi. Lalu divisualkan dalam bentuk scatter plot. Argumen scatter plot pertama `X_pca[:, 0]` memiliki maksud mengambil seluruh baris data untuk kolom pertama. Argumen kedua `X_pca[:, 1]` juga mengambil seluruh baris namun untuk kolom kedua. Selanjutnya nilai `c=y` mengatur agar pewarnaan mengikuti nilai y atau quality-nya. Sebelum menampilkan hasil visualisasi dengan `plt.show` terlebih dahulu saya memberikan judul visualisasi."
   ]
  },
  {
   "cell_type": "markdown",
   "id": "16c76474",
   "metadata": {},
   "source": [
    "### KNN tanpa PCA"
   ]
  },
  {
   "cell_type": "markdown",
   "id": "cc174cb6",
   "metadata": {},
   "source": [
    "Pada bagian sebelumnya saya terlebih dahulu mereduksi dimensi dataset dengan PCA. Pada bagian ini saya melakukan klasifikasi tanpa mereduksi dataset terlebih dahulu."
   ]
  },
  {
   "cell_type": "code",
   "execution_count": 396,
   "id": "6cdbcec5",
   "metadata": {},
   "outputs": [],
   "source": [
    "knn_wo_red = KNeighborsClassifier(n_neighbors=k_value)\n",
    "knn_wo_red.fit(X_train, y_train)\n",
    "acc_wo_red = knn_wo_red.score(X_test, y_test)"
   ]
  },
  {
   "cell_type": "markdown",
   "id": "6f6c4b71",
   "metadata": {},
   "source": [
    "Pertama saya membuat objek untuk knn dengan nilai k sama dengan sebelumnya, yaitu bernilai 3. Kemudian saya menggunakan data training yang tidak direduksi dengan pca. Setelah model dibuat saya menghitung akurasi dengan menggunakan data testing."
   ]
  },
  {
   "cell_type": "code",
   "execution_count": 397,
   "id": "23b3f253",
   "metadata": {},
   "outputs": [
    {
     "name": "stdout",
     "output_type": "stream",
     "text": [
      "Hasil akurasi jika tidak menggunakan PCA : 48.27%\n"
     ]
    }
   ],
   "source": [
    "print(f'Hasil akurasi jika tidak menggunakan PCA : {round(acc_wo_red*100, 2)}%')"
   ]
  },
  {
   "cell_type": "markdown",
   "id": "ee6db6e4",
   "metadata": {},
   "source": [
    "Hasilnya adalah akurasinya **lebih tinggi jika dibandingkan dengan yang telah direduksi dengan pca**. Namun perbedaanya tidak terlalu signifikan kurang lebih sekitar 1% saja."
   ]
  },
  {
   "cell_type": "markdown",
   "id": "7ac2af1a",
   "metadata": {},
   "source": [
    "### Uji Akurasi dengan ROC AUC\n",
    "\n",
    "**ROC AUC (Receiver Operating Characteristic - Area Under Curve)** merupakan metode pengukuaran akurasi/kinerja klasifikasi dengan memanfaatkan nilai False Positive Rate dan True Positive Rate. Kedua nilai tersebut dapat didapatkan dengan rumus berikut\n",
    "```\n",
    "FPR = FP / (FP + TN)\n",
    "TPR = TP / (TP + FN)\n",
    "```\n",
    "dengan\n",
    "\n",
    "FP = nilai false positive  \n",
    "TP = nilai true positive     \n",
    "TN = nilai true negative  \n",
    "FN = nilai false negative  \n",
    "\n",
    "dari confusion matrix."
   ]
  },
  {
   "cell_type": "markdown",
   "id": "cc46cc8c",
   "metadata": {},
   "source": [
    "#### KNN dengan PCA    \n",
    "\n",
    "Perhitungan skor ROC AUC pada model KNN dengan PCA dapat menggunakan model yang telah dibuat sebelumnya."
   ]
  },
  {
   "cell_type": "code",
   "execution_count": 398,
   "id": "7608428e",
   "metadata": {},
   "outputs": [],
   "source": [
    "y_pred = knn.predict_proba(pca.transform(X_test))\n",
    "score_roc_pca = roc_auc_score(y_test, y_pred, multi_class='ovr')"
   ]
  },
  {
   "cell_type": "markdown",
   "id": "85169063",
   "metadata": {},
   "source": [
    "Pertama dengan menggunakan model `knn` yang telah dibuat dan difitting dengan data yang telah direduksi dimensinya, saya melakukan prediksi kemungkinan klasifikasi dari data testing. Kemudian saya menghitung nilai skor dengan menggunakan fungsi `roc_auc_score` yang diberikan argumen data testing hasil klasifikasi dan data prediksi hasil klasifikasifikasi. Karena target klasifikasi yang saya lakukan lebih dari dua kelas (*multi class*), perlu ditambahkan argumen ketiga `multi_class='ovr'` dimana maksud dari `ovr` adalah One-vs-Rest. Selain `ovr` terdapat juga nilai `ovo` yang berarti One-vs-One. Perbedaan keduanya adalah bagaimana pengelolaan data agar memungkinkan klasifikasi multi class dilakukan dengan ROC AUC yang seharusnya digunakan untuk klasifikasi binary (dua) class saja."
   ]
  },
  {
   "cell_type": "code",
   "execution_count": 399,
   "id": "2e1f345c",
   "metadata": {},
   "outputs": [
    {
     "name": "stdout",
     "output_type": "stream",
     "text": [
      "Skor ROC AUC jika menggunakan PCA : 61.95%\n"
     ]
    }
   ],
   "source": [
    "print(f'Skor ROC AUC jika menggunakan PCA : {round(score_roc_pca*100, 2)}%')"
   ]
  },
  {
   "cell_type": "markdown",
   "id": "17003ead",
   "metadata": {},
   "source": [
    "Skor yang didapatkan jika menggunakan PCA sebesar 61.95%."
   ]
  },
  {
   "cell_type": "markdown",
   "id": "decd296a",
   "metadata": {},
   "source": [
    "#### Tanpa PCA    \n",
    "\n",
    "Perhitungan skor ROC AUC pada model KNN tanpa PCA juga dapat memanfaatkan model yang telah dibuat sebelumnya."
   ]
  },
  {
   "cell_type": "code",
   "execution_count": 400,
   "id": "098782d0",
   "metadata": {},
   "outputs": [],
   "source": [
    "y_pred_wo_pca = knn_wo_red.predict_proba(X_test)\n",
    "score_roc_wo_pca = roc_auc_score(y_test, y_pred_wo_pca, multi_class='ovr')"
   ]
  },
  {
   "cell_type": "markdown",
   "id": "9c2e68e6",
   "metadata": {},
   "source": [
    "Kurang lebih penjelasannya sama dengan pada bagian sebelumnya. Bedanya adalah disini menggunakan model knn tanpa pca, `knn_wo_red`, dan data tanpa reduksi."
   ]
  },
  {
   "cell_type": "code",
   "execution_count": 401,
   "id": "ca831b56",
   "metadata": {},
   "outputs": [
    {
     "name": "stdout",
     "output_type": "stream",
     "text": [
      "Skor ROC AUC jika tidak menggunakan PCA : 63.29%\n"
     ]
    }
   ],
   "source": [
    "print(f'Skor ROC AUC jika tidak menggunakan PCA : {round(score_roc_wo_pca*100, 2)}%')"
   ]
  },
  {
   "cell_type": "markdown",
   "id": "02ce5291",
   "metadata": {},
   "source": [
    "Skor yang didapatkan jika tanpa PCA sebesar 63.29%. **Lebih besar sekitar 1% dari yang menggunakan PCA.**"
   ]
  },
  {
   "cell_type": "markdown",
   "id": "3b7af843",
   "metadata": {},
   "source": [
    "**Sekian, Terima Kasih**"
   ]
  }
 ],
 "metadata": {
  "kernelspec": {
   "display_name": "Python 3",
   "language": "python",
   "name": "python3"
  },
  "language_info": {
   "codemirror_mode": {
    "name": "ipython",
    "version": 3
   },
   "file_extension": ".py",
   "mimetype": "text/x-python",
   "name": "python",
   "nbconvert_exporter": "python",
   "pygments_lexer": "ipython3",
   "version": "3.8.8"
  }
 },
 "nbformat": 4,
 "nbformat_minor": 5
}
